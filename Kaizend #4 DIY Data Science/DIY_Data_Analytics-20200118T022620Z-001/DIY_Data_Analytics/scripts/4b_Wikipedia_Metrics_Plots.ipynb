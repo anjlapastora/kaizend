{
 "cells": [
  {
   "cell_type": "code",
   "execution_count": 1,
   "metadata": {},
   "outputs": [],
   "source": [
    "import pandas as pd\n",
    "import numpy as np\n",
    "import matplotlib.pyplot as plt\n",
    "%matplotlib inline\n",
    "import scipy.stats as stats"
   ]
  },
  {
   "cell_type": "code",
   "execution_count": 2,
   "metadata": {},
   "outputs": [],
   "source": [
    "fn = \"../output/wikipedia_metrics.csv\"\n",
    "df = pd.read_csv(fn)"
   ]
  },
  {
   "cell_type": "code",
   "execution_count": 3,
   "metadata": {},
   "outputs": [
    {
     "data": {
      "text/html": [
       "<div>\n",
       "<style scoped>\n",
       "    .dataframe tbody tr th:only-of-type {\n",
       "        vertical-align: middle;\n",
       "    }\n",
       "\n",
       "    .dataframe tbody tr th {\n",
       "        vertical-align: top;\n",
       "    }\n",
       "\n",
       "    .dataframe thead th {\n",
       "        text-align: right;\n",
       "    }\n",
       "</style>\n",
       "<table border=\"1\" class=\"dataframe\">\n",
       "  <thead>\n",
       "    <tr style=\"text-align: right;\">\n",
       "      <th></th>\n",
       "      <th>title</th>\n",
       "      <th>edits</th>\n",
       "      <th>size</th>\n",
       "      <th>users</th>\n",
       "    </tr>\n",
       "  </thead>\n",
       "  <tbody>\n",
       "    <tr>\n",
       "      <th>0</th>\n",
       "      <td>50_Cent</td>\n",
       "      <td>13066</td>\n",
       "      <td>518204129</td>\n",
       "      <td>4557</td>\n",
       "    </tr>\n",
       "    <tr>\n",
       "      <th>1</th>\n",
       "      <td>Adele</td>\n",
       "      <td>6725</td>\n",
       "      <td>456912673</td>\n",
       "      <td>2672</td>\n",
       "    </tr>\n",
       "    <tr>\n",
       "      <th>2</th>\n",
       "      <td>Angelina_Jolie</td>\n",
       "      <td>7336</td>\n",
       "      <td>531496219</td>\n",
       "      <td>2902</td>\n",
       "    </tr>\n",
       "    <tr>\n",
       "      <th>3</th>\n",
       "      <td>Backstreet_Boys</td>\n",
       "      <td>10270</td>\n",
       "      <td>412497115</td>\n",
       "      <td>4050</td>\n",
       "    </tr>\n",
       "    <tr>\n",
       "      <th>4</th>\n",
       "      <td>Ben_Affleck</td>\n",
       "      <td>9263</td>\n",
       "      <td>906521569</td>\n",
       "      <td>3655</td>\n",
       "    </tr>\n",
       "  </tbody>\n",
       "</table>\n",
       "</div>"
      ],
      "text/plain": [
       "             title  edits       size  users\n",
       "0          50_Cent  13066  518204129   4557\n",
       "1            Adele   6725  456912673   2672\n",
       "2   Angelina_Jolie   7336  531496219   2902\n",
       "3  Backstreet_Boys  10270  412497115   4050\n",
       "4      Ben_Affleck   9263  906521569   3655"
      ]
     },
     "execution_count": 3,
     "metadata": {},
     "output_type": "execute_result"
    }
   ],
   "source": [
    "df.head()"
   ]
  },
  {
   "cell_type": "code",
   "execution_count": 4,
   "metadata": {},
   "outputs": [],
   "source": [
    "# Make scatterplot showing relationship between \n",
    "# no of edits vs no of users\n",
    "# define x and y variables\n",
    "x = df[\"users\"]\n",
    "y = df[\"edits\"]"
   ]
  },
  {
   "cell_type": "code",
   "execution_count": 13,
   "metadata": {},
   "outputs": [
    {
     "data": {
      "text/plain": [
       "[<matplotlib.lines.Line2D at 0x1a5e917c160>]"
      ]
     },
     "execution_count": 13,
     "metadata": {},
     "output_type": "execute_result"
    },
    {
     "data": {
      "image/png": "[encoded data removed]",
      "text/plain": [
       "<Figure size 432x288 with 1 Axes>"
      ]
     },
     "metadata": {
      "needs_background": "light"
     },
     "output_type": "display_data"
    }
   ],
   "source": [
    "# plot x vs y \n",
    "plt.plot(x, y, color = 'b', marker='.', linestyle='')"
   ]
  },
  {
   "cell_type": "code",
   "execution_count": 14,
   "metadata": {},
   "outputs": [
    {
     "data": {
      "text/plain": [
       "[<matplotlib.lines.Line2D at 0x1a5ea9f00f0>]"
      ]
     },
     "execution_count": 14,
     "metadata": {},
     "output_type": "execute_result"
    },
    {
     "data": {
      "image/png": "[encoded data removed]",
      "text/plain": [
       "<Figure size 432x288 with 1 Axes>"
      ]
     },
     "metadata": {
      "needs_background": "light"
     },
     "output_type": "display_data"
    }
   ],
   "source": [
    "plt.plot(x,y, c='k', marker='.', ls='')"
   ]
  },
  {
   "cell_type": "code",
   "execution_count": 15,
   "metadata": {},
   "outputs": [
    {
     "data": {
      "text/plain": [
       "[<matplotlib.lines.Line2D at 0x1a5e92b3780>]"
      ]
     },
     "execution_count": 15,
     "metadata": {},
     "output_type": "execute_result"
    },
    {
     "data": {
      "image/png": "[encoded data removed]",
      "text/plain": [
       "<Figure size 432x288 with 1 Axes>"
      ]
     },
     "metadata": {
      "needs_background": "light"
     },
     "output_type": "display_data"
    }
   ],
   "source": [
    "plt.plot(x, y, 'k.')"
   ]
  },
  {
   "cell_type": "code",
   "execution_count": 16,
   "metadata": {},
   "outputs": [
    {
     "data": {
      "text/plain": [
       "[<matplotlib.lines.Line2D at 0x1a5eaa77128>]"
      ]
     },
     "execution_count": 16,
     "metadata": {},
     "output_type": "execute_result"
    },
    {
     "data": {
      "image/png": "[encoded data removed]",
      "text/plain": [
       "<Figure size 432x288 with 1 Axes>"
      ]
     },
     "metadata": {
      "needs_background": "light"
     },
     "output_type": "display_data"
    }
   ],
   "source": [
    "plt.plot(x,y, c='b', marker='o', alpha=0.6, ls='')"
   ]
  },
  {
   "cell_type": "code",
   "execution_count": 18,
   "metadata": {},
   "outputs": [
    {
     "data": {
      "text/plain": [
       "Text(0.5, 1.0, \"Forbes 100 Celebrities' Wikipedia Page\")"
      ]
     },
     "execution_count": 18,
     "metadata": {},
     "output_type": "execute_result"
    },
    {
     "data": {
      "image/png": "[encoded data removed]",
      "text/plain": [
       "<Figure size 432x288 with 1 Axes>"
      ]
     },
     "metadata": {
      "needs_background": "light"
     },
     "output_type": "display_data"
    }
   ],
   "source": [
    "plt.plot(x,y, c='b', marker='o', alpha=0.6, ls='')\n",
    "# adding labels\n",
    "plt.xlabel(\"No. of contributing users\")\n",
    "plt.ylabel(\"No of Edits\")\n",
    "plt.minorticks_on()\n",
    "plt.title(\"Forbes 100 Celebrities' Wikipedia Page\")"
   ]
  },
  {
   "cell_type": "code",
   "execution_count": 20,
   "metadata": {},
   "outputs": [
    {
     "data": {
      "text/plain": [
       "2.609397656944558"
      ]
     },
     "execution_count": 20,
     "metadata": {},
     "output_type": "execute_result"
    }
   ],
   "source": [
    "# quantifying the relationship using mean ratio\n",
    "mean_ratio = np.mean(y/x)\n",
    "mean_ratio"
   ]
  },
  {
   "cell_type": "code",
   "execution_count": 31,
   "metadata": {
    "scrolled": true
   },
   "outputs": [],
   "source": [
    "# Overlay in plot the line: y = mean_ratio * x\n",
    "xx = np.linspace(800, 8400, 1000)\n",
    "yy = mean_ratio * xx"
   ]
  },
  {
   "cell_type": "code",
   "execution_count": 32,
   "metadata": {},
   "outputs": [
    {
     "data": {
      "text/plain": [
       "array([ 800.        ,  807.60760761,  815.21521522,  822.82282282,\n",
       "        830.43043043,  838.03803804,  845.64564565,  853.25325325,\n",
       "        860.86086086,  868.46846847,  876.07607608,  883.68368368,\n",
       "        891.29129129,  898.8988989 ,  906.50650651,  914.11411411,\n",
       "        921.72172172,  929.32932933,  936.93693694,  944.54454454,\n",
       "        952.15215215,  959.75975976,  967.36736737,  974.97497497,\n",
       "        982.58258258,  990.19019019,  997.7977978 , 1005.40540541,\n",
       "       1013.01301301, 1020.62062062, 1028.22822823, 1035.83583584,\n",
       "       1043.44344344, 1051.05105105, 1058.65865866, 1066.26626627,\n",
       "       1073.87387387, 1081.48148148, 1089.08908909, 1096.6966967 ,\n",
       "       1104.3043043 , 1111.91191191, 1119.51951952, 1127.12712713,\n",
       "       1134.73473473, 1142.34234234, 1149.94994995, 1157.55755756,\n",
       "       1165.16516517, 1172.77277277, 1180.38038038, 1187.98798799,\n",
       "       1195.5955956 , 1203.2032032 , 1210.81081081, 1218.41841842,\n",
       "       1226.02602603, 1233.63363363, 1241.24124124, 1248.84884885,\n",
       "       1256.45645646, 1264.06406406, 1271.67167167, 1279.27927928,\n",
       "       1286.88688689, 1294.49449449, 1302.1021021 , 1309.70970971,\n",
       "       1317.31731732, 1324.92492492, 1332.53253253, 1340.14014014,\n",
       "       1347.74774775, 1355.35535536, 1362.96296296, 1370.57057057,\n",
       "       1378.17817818, 1385.78578579, 1393.39339339, 1401.001001  ,\n",
       "       1408.60860861, 1416.21621622, 1423.82382382, 1431.43143143,\n",
       "       1439.03903904, 1446.64664665, 1454.25425425, 1461.86186186,\n",
       "       1469.46946947, 1477.07707708, 1484.68468468, 1492.29229229,\n",
       "       1499.8998999 , 1507.50750751, 1515.11511512, 1522.72272272,\n",
       "       1530.33033033, 1537.93793794, 1545.54554555, 1553.15315315,\n",
       "       1560.76076076, 1568.36836837, 1575.97597598, 1583.58358358,\n",
       "       1591.19119119, 1598.7987988 , 1606.40640641, 1614.01401401,\n",
       "       1621.62162162, 1629.22922923, 1636.83683684, 1644.44444444,\n",
       "       1652.05205205, 1659.65965966, 1667.26726727, 1674.87487487,\n",
       "       1682.48248248, 1690.09009009, 1697.6976977 , 1705.30530531,\n",
       "       1712.91291291, 1720.52052052, 1728.12812813, 1735.73573574,\n",
       "       1743.34334334, 1750.95095095, 1758.55855856, 1766.16616617,\n",
       "       1773.77377377, 1781.38138138, 1788.98898899, 1796.5965966 ,\n",
       "       1804.2042042 , 1811.81181181, 1819.41941942, 1827.02702703,\n",
       "       1834.63463463, 1842.24224224, 1849.84984985, 1857.45745746,\n",
       "       1865.06506507, 1872.67267267, 1880.28028028, 1887.88788789,\n",
       "       1895.4954955 , 1903.1031031 , 1910.71071071, 1918.31831832,\n",
       "       1925.92592593, 1933.53353353, 1941.14114114, 1948.74874875,\n",
       "       1956.35635636, 1963.96396396, 1971.57157157, 1979.17917918,\n",
       "       1986.78678679, 1994.39439439, 2002.002002  , 2009.60960961,\n",
       "       2017.21721722, 2024.82482482, 2032.43243243, 2040.04004004,\n",
       "       2047.64764765, 2055.25525526, 2062.86286286, 2070.47047047,\n",
       "       2078.07807808, 2085.68568569, 2093.29329329, 2100.9009009 ,\n",
       "       2108.50850851, 2116.11611612, 2123.72372372, 2131.33133133,\n",
       "       2138.93893894, 2146.54654655, 2154.15415415, 2161.76176176,\n",
       "       2169.36936937, 2176.97697698, 2184.58458458, 2192.19219219,\n",
       "       2199.7997998 , 2207.40740741, 2215.01501502, 2222.62262262,\n",
       "       2230.23023023, 2237.83783784, 2245.44544545, 2253.05305305,\n",
       "       2260.66066066, 2268.26826827, 2275.87587588, 2283.48348348,\n",
       "       2291.09109109, 2298.6986987 , 2306.30630631, 2313.91391391,\n",
       "       2321.52152152, 2329.12912913, 2336.73673674, 2344.34434434,\n",
       "       2351.95195195, 2359.55955956, 2367.16716717, 2374.77477477,\n",
       "       2382.38238238, 2389.98998999, 2397.5975976 , 2405.20520521,\n",
       "       2412.81281281, 2420.42042042, 2428.02802803, 2435.63563564,\n",
       "       2443.24324324, 2450.85085085, 2458.45845846, 2466.06606607,\n",
       "       2473.67367367, 2481.28128128, 2488.88888889, 2496.4964965 ,\n",
       "       2504.1041041 , 2511.71171171, 2519.31931932, 2526.92692693,\n",
       "       2534.53453453, 2542.14214214, 2549.74974975, 2557.35735736,\n",
       "       2564.96496496, 2572.57257257, 2580.18018018, 2587.78778779,\n",
       "       2595.3953954 , 2603.003003  , 2610.61061061, 2618.21821822,\n",
       "       2625.82582583, 2633.43343343, 2641.04104104, 2648.64864865,\n",
       "       2656.25625626, 2663.86386386, 2671.47147147, 2679.07907908,\n",
       "       2686.68668669, 2694.29429429, 2701.9019019 , 2709.50950951,\n",
       "       2717.11711712, 2724.72472472, 2732.33233233, 2739.93993994,\n",
       "       2747.54754755, 2755.15515516, 2762.76276276, 2770.37037037,\n",
       "       2777.97797798, 2785.58558559, 2793.19319319, 2800.8008008 ,\n",
       "       2808.40840841, 2816.01601602, 2823.62362362, 2831.23123123,\n",
       "       2838.83883884, 2846.44644645, 2854.05405405, 2861.66166166,\n",
       "       2869.26926927, 2876.87687688, 2884.48448448, 2892.09209209,\n",
       "       2899.6996997 , 2907.30730731, 2914.91491491, 2922.52252252,\n",
       "       2930.13013013, 2937.73773774, 2945.34534535, 2952.95295295,\n",
       "       2960.56056056, 2968.16816817, 2975.77577578, 2983.38338338,\n",
       "       2990.99099099, 2998.5985986 , 3006.20620621, 3013.81381381,\n",
       "       3021.42142142, 3029.02902903, 3036.63663664, 3044.24424424,\n",
       "       3051.85185185, 3059.45945946, 3067.06706707, 3074.67467467,\n",
       "       3082.28228228, 3089.88988989, 3097.4974975 , 3105.10510511,\n",
       "       3112.71271271, 3120.32032032, 3127.92792793, 3135.53553554,\n",
       "       3143.14314314, 3150.75075075, 3158.35835836, 3165.96596597,\n",
       "       3173.57357357, 3181.18118118, 3188.78878879, 3196.3963964 ,\n",
       "       3204.004004  , 3211.61161161, 3219.21921922, 3226.82682683,\n",
       "       3234.43443443, 3242.04204204, 3249.64964965, 3257.25725726,\n",
       "       3264.86486486, 3272.47247247, 3280.08008008, 3287.68768769,\n",
       "       3295.2952953 , 3302.9029029 , 3310.51051051, 3318.11811812,\n",
       "       3325.72572573, 3333.33333333, 3340.94094094, 3348.54854855,\n",
       "       3356.15615616, 3363.76376376, 3371.37137137, 3378.97897898,\n",
       "       3386.58658659, 3394.19419419, 3401.8018018 , 3409.40940941,\n",
       "       3417.01701702, 3424.62462462, 3432.23223223, 3439.83983984,\n",
       "       3447.44744745, 3455.05505506, 3462.66266266, 3470.27027027,\n",
       "       3477.87787788, 3485.48548549, 3493.09309309, 3500.7007007 ,\n",
       "       3508.30830831, 3515.91591592, 3523.52352352, 3531.13113113,\n",
       "       3538.73873874, 3546.34634635, 3553.95395395, 3561.56156156,\n",
       "       3569.16916917, 3576.77677678, 3584.38438438, 3591.99199199,\n",
       "       3599.5995996 , 3607.20720721, 3614.81481481, 3622.42242242,\n",
       "       3630.03003003, 3637.63763764, 3645.24524525, 3652.85285285,\n",
       "       3660.46046046, 3668.06806807, 3675.67567568, 3683.28328328,\n",
       "       3690.89089089, 3698.4984985 , 3706.10610611, 3713.71371371,\n",
       "       3721.32132132, 3728.92892893, 3736.53653654, 3744.14414414,\n",
       "       3751.75175175, 3759.35935936, 3766.96696697, 3774.57457457,\n",
       "       3782.18218218, 3789.78978979, 3797.3973974 , 3805.00500501,\n",
       "       3812.61261261, 3820.22022022, 3827.82782783, 3835.43543544,\n",
       "       3843.04304304, 3850.65065065, 3858.25825826, 3865.86586587,\n",
       "       3873.47347347, 3881.08108108, 3888.68868869, 3896.2962963 ,\n",
       "       3903.9039039 , 3911.51151151, 3919.11911912, 3926.72672673,\n",
       "       3934.33433433, 3941.94194194, 3949.54954955, 3957.15715716,\n",
       "       3964.76476476, 3972.37237237, 3979.97997998, 3987.58758759,\n",
       "       3995.1951952 , 4002.8028028 , 4010.41041041, 4018.01801802,\n",
       "       4025.62562563, 4033.23323323, 4040.84084084, 4048.44844845,\n",
       "       4056.05605606, 4063.66366366, 4071.27127127, 4078.87887888,\n",
       "       4086.48648649, 4094.09409409, 4101.7017017 , 4109.30930931,\n",
       "       4116.91691692, 4124.52452452, 4132.13213213, 4139.73973974,\n",
       "       4147.34734735, 4154.95495495, 4162.56256256, 4170.17017017,\n",
       "       4177.77777778, 4185.38538539, 4192.99299299, 4200.6006006 ,\n",
       "       4208.20820821, 4215.81581582, 4223.42342342, 4231.03103103,\n",
       "       4238.63863864, 4246.24624625, 4253.85385385, 4261.46146146,\n",
       "       4269.06906907, 4276.67667668, 4284.28428428, 4291.89189189,\n",
       "       4299.4994995 , 4307.10710711, 4314.71471471, 4322.32232232,\n",
       "       4329.92992993, 4337.53753754, 4345.14514515, 4352.75275275,\n",
       "       4360.36036036, 4367.96796797, 4375.57557558, 4383.18318318,\n",
       "       4390.79079079, 4398.3983984 , 4406.00600601, 4413.61361361,\n",
       "       4421.22122122, 4428.82882883, 4436.43643644, 4444.04404404,\n",
       "       4451.65165165, 4459.25925926, 4466.86686687, 4474.47447447,\n",
       "       4482.08208208, 4489.68968969, 4497.2972973 , 4504.9049049 ,\n",
       "       4512.51251251, 4520.12012012, 4527.72772773, 4535.33533534,\n",
       "       4542.94294294, 4550.55055055, 4558.15815816, 4565.76576577,\n",
       "       4573.37337337, 4580.98098098, 4588.58858859, 4596.1961962 ,\n",
       "       4603.8038038 , 4611.41141141, 4619.01901902, 4626.62662663,\n",
       "       4634.23423423, 4641.84184184, 4649.44944945, 4657.05705706,\n",
       "       4664.66466466, 4672.27227227, 4679.87987988, 4687.48748749,\n",
       "       4695.0950951 , 4702.7027027 , 4710.31031031, 4717.91791792,\n",
       "       4725.52552553, 4733.13313313, 4740.74074074, 4748.34834835,\n",
       "       4755.95595596, 4763.56356356, 4771.17117117, 4778.77877878,\n",
       "       4786.38638639, 4793.99399399, 4801.6016016 , 4809.20920921,\n",
       "       4816.81681682, 4824.42442442, 4832.03203203, 4839.63963964,\n",
       "       4847.24724725, 4854.85485485, 4862.46246246, 4870.07007007,\n",
       "       4877.67767768, 4885.28528529, 4892.89289289, 4900.5005005 ,\n",
       "       4908.10810811, 4915.71571572, 4923.32332332, 4930.93093093,\n",
       "       4938.53853854, 4946.14614615, 4953.75375375, 4961.36136136,\n",
       "       4968.96896897, 4976.57657658, 4984.18418418, 4991.79179179,\n",
       "       4999.3993994 , 5007.00700701, 5014.61461461, 5022.22222222,\n",
       "       5029.82982983, 5037.43743744, 5045.04504505, 5052.65265265,\n",
       "       5060.26026026, 5067.86786787, 5075.47547548, 5083.08308308,\n",
       "       5090.69069069, 5098.2982983 , 5105.90590591, 5113.51351351,\n",
       "       5121.12112112, 5128.72872873, 5136.33633634, 5143.94394394,\n",
       "       5151.55155155, 5159.15915916, 5166.76676677, 5174.37437437,\n",
       "       5181.98198198, 5189.58958959, 5197.1971972 , 5204.8048048 ,\n",
       "       5212.41241241, 5220.02002002, 5227.62762763, 5235.23523524,\n",
       "       5242.84284284, 5250.45045045, 5258.05805806, 5265.66566567,\n",
       "       5273.27327327, 5280.88088088, 5288.48848849, 5296.0960961 ,\n",
       "       5303.7037037 , 5311.31131131, 5318.91891892, 5326.52652653,\n",
       "       5334.13413413, 5341.74174174, 5349.34934935, 5356.95695696,\n",
       "       5364.56456456, 5372.17217217, 5379.77977978, 5387.38738739,\n",
       "       5394.99499499, 5402.6026026 , 5410.21021021, 5417.81781782,\n",
       "       5425.42542543, 5433.03303303, 5440.64064064, 5448.24824825,\n",
       "       5455.85585586, 5463.46346346, 5471.07107107, 5478.67867868,\n",
       "       5486.28628629, 5493.89389389, 5501.5015015 , 5509.10910911,\n",
       "       5516.71671672, 5524.32432432, 5531.93193193, 5539.53953954,\n",
       "       5547.14714715, 5554.75475475, 5562.36236236, 5569.96996997,\n",
       "       5577.57757758, 5585.18518519, 5592.79279279, 5600.4004004 ,\n",
       "       5608.00800801, 5615.61561562, 5623.22322322, 5630.83083083,\n",
       "       5638.43843844, 5646.04604605, 5653.65365365, 5661.26126126,\n",
       "       5668.86886887, 5676.47647648, 5684.08408408, 5691.69169169,\n",
       "       5699.2992993 , 5706.90690691, 5714.51451451, 5722.12212212,\n",
       "       5729.72972973, 5737.33733734, 5744.94494494, 5752.55255255,\n",
       "       5760.16016016, 5767.76776777, 5775.37537538, 5782.98298298,\n",
       "       5790.59059059, 5798.1981982 , 5805.80580581, 5813.41341341,\n",
       "       5821.02102102, 5828.62862863, 5836.23623624, 5843.84384384,\n",
       "       5851.45145145, 5859.05905906, 5866.66666667, 5874.27427427,\n",
       "       5881.88188188, 5889.48948949, 5897.0970971 , 5904.7047047 ,\n",
       "       5912.31231231, 5919.91991992, 5927.52752753, 5935.13513514,\n",
       "       5942.74274274, 5950.35035035, 5957.95795796, 5965.56556557,\n",
       "       5973.17317317, 5980.78078078, 5988.38838839, 5995.995996  ,\n",
       "       6003.6036036 , 6011.21121121, 6018.81881882, 6026.42642643,\n",
       "       6034.03403403, 6041.64164164, 6049.24924925, 6056.85685686,\n",
       "       6064.46446446, 6072.07207207, 6079.67967968, 6087.28728729,\n",
       "       6094.89489489, 6102.5025025 , 6110.11011011, 6117.71771772,\n",
       "       6125.32532533, 6132.93293293, 6140.54054054, 6148.14814815,\n",
       "       6155.75575576, 6163.36336336, 6170.97097097, 6178.57857858,\n",
       "       6186.18618619, 6193.79379379, 6201.4014014 , 6209.00900901,\n",
       "       6216.61661662, 6224.22422422, 6231.83183183, 6239.43943944,\n",
       "       6247.04704705, 6254.65465465, 6262.26226226, 6269.86986987,\n",
       "       6277.47747748, 6285.08508509, 6292.69269269, 6300.3003003 ,\n",
       "       6307.90790791, 6315.51551552, 6323.12312312, 6330.73073073,\n",
       "       6338.33833834, 6345.94594595, 6353.55355355, 6361.16116116,\n",
       "       6368.76876877, 6376.37637638, 6383.98398398, 6391.59159159,\n",
       "       6399.1991992 , 6406.80680681, 6414.41441441, 6422.02202202,\n",
       "       6429.62962963, 6437.23723724, 6444.84484484, 6452.45245245,\n",
       "       6460.06006006, 6467.66766767, 6475.27527528, 6482.88288288,\n",
       "       6490.49049049, 6498.0980981 , 6505.70570571, 6513.31331331,\n",
       "       6520.92092092, 6528.52852853, 6536.13613614, 6543.74374374,\n",
       "       6551.35135135, 6558.95895896, 6566.56656657, 6574.17417417,\n",
       "       6581.78178178, 6589.38938939, 6596.996997  , 6604.6046046 ,\n",
       "       6612.21221221, 6619.81981982, 6627.42742743, 6635.03503504,\n",
       "       6642.64264264, 6650.25025025, 6657.85785786, 6665.46546547,\n",
       "       6673.07307307, 6680.68068068, 6688.28828829, 6695.8958959 ,\n",
       "       6703.5035035 , 6711.11111111, 6718.71871872, 6726.32632633,\n",
       "       6733.93393393, 6741.54154154, 6749.14914915, 6756.75675676,\n",
       "       6764.36436436, 6771.97197197, 6779.57957958, 6787.18718719,\n",
       "       6794.79479479, 6802.4024024 , 6810.01001001, 6817.61761762,\n",
       "       6825.22522523, 6832.83283283, 6840.44044044, 6848.04804805,\n",
       "       6855.65565566, 6863.26326326, 6870.87087087, 6878.47847848,\n",
       "       6886.08608609, 6893.69369369, 6901.3013013 , 6908.90890891,\n",
       "       6916.51651652, 6924.12412412, 6931.73173173, 6939.33933934,\n",
       "       6946.94694695, 6954.55455455, 6962.16216216, 6969.76976977,\n",
       "       6977.37737738, 6984.98498498, 6992.59259259, 7000.2002002 ,\n",
       "       7007.80780781, 7015.41541542, 7023.02302302, 7030.63063063,\n",
       "       7038.23823824, 7045.84584585, 7053.45345345, 7061.06106106,\n",
       "       7068.66866867, 7076.27627628, 7083.88388388, 7091.49149149,\n",
       "       7099.0990991 , 7106.70670671, 7114.31431431, 7121.92192192,\n",
       "       7129.52952953, 7137.13713714, 7144.74474474, 7152.35235235,\n",
       "       7159.95995996, 7167.56756757, 7175.17517518, 7182.78278278,\n",
       "       7190.39039039, 7197.997998  , 7205.60560561, 7213.21321321,\n",
       "       7220.82082082, 7228.42842843, 7236.03603604, 7243.64364364,\n",
       "       7251.25125125, 7258.85885886, 7266.46646647, 7274.07407407,\n",
       "       7281.68168168, 7289.28928929, 7296.8968969 , 7304.5045045 ,\n",
       "       7312.11211211, 7319.71971972, 7327.32732733, 7334.93493493,\n",
       "       7342.54254254, 7350.15015015, 7357.75775776, 7365.36536537,\n",
       "       7372.97297297, 7380.58058058, 7388.18818819, 7395.7957958 ,\n",
       "       7403.4034034 , 7411.01101101, 7418.61861862, 7426.22622623,\n",
       "       7433.83383383, 7441.44144144, 7449.04904905, 7456.65665666,\n",
       "       7464.26426426, 7471.87187187, 7479.47947948, 7487.08708709,\n",
       "       7494.69469469, 7502.3023023 , 7509.90990991, 7517.51751752,\n",
       "       7525.12512513, 7532.73273273, 7540.34034034, 7547.94794795,\n",
       "       7555.55555556, 7563.16316316, 7570.77077077, 7578.37837838,\n",
       "       7585.98598599, 7593.59359359, 7601.2012012 , 7608.80880881,\n",
       "       7616.41641642, 7624.02402402, 7631.63163163, 7639.23923924,\n",
       "       7646.84684685, 7654.45445445, 7662.06206206, 7669.66966967,\n",
       "       7677.27727728, 7684.88488488, 7692.49249249, 7700.1001001 ,\n",
       "       7707.70770771, 7715.31531532, 7722.92292292, 7730.53053053,\n",
       "       7738.13813814, 7745.74574575, 7753.35335335, 7760.96096096,\n",
       "       7768.56856857, 7776.17617618, 7783.78378378, 7791.39139139,\n",
       "       7798.998999  , 7806.60660661, 7814.21421421, 7821.82182182,\n",
       "       7829.42942943, 7837.03703704, 7844.64464464, 7852.25225225,\n",
       "       7859.85985986, 7867.46746747, 7875.07507508, 7882.68268268,\n",
       "       7890.29029029, 7897.8978979 , 7905.50550551, 7913.11311311,\n",
       "       7920.72072072, 7928.32832833, 7935.93593594, 7943.54354354,\n",
       "       7951.15115115, 7958.75875876, 7966.36636637, 7973.97397397,\n",
       "       7981.58158158, 7989.18918919, 7996.7967968 , 8004.4044044 ,\n",
       "       8012.01201201, 8019.61961962, 8027.22722723, 8034.83483483,\n",
       "       8042.44244244, 8050.05005005, 8057.65765766, 8065.26526527,\n",
       "       8072.87287287, 8080.48048048, 8088.08808809, 8095.6956957 ,\n",
       "       8103.3033033 , 8110.91091091, 8118.51851852, 8126.12612613,\n",
       "       8133.73373373, 8141.34134134, 8148.94894895, 8156.55655656,\n",
       "       8164.16416416, 8171.77177177, 8179.37937938, 8186.98698699,\n",
       "       8194.59459459, 8202.2022022 , 8209.80980981, 8217.41741742,\n",
       "       8225.02502503, 8232.63263263, 8240.24024024, 8247.84784785,\n",
       "       8255.45545546, 8263.06306306, 8270.67067067, 8278.27827828,\n",
       "       8285.88588589, 8293.49349349, 8301.1011011 , 8308.70870871,\n",
       "       8316.31631632, 8323.92392392, 8331.53153153, 8339.13913914,\n",
       "       8346.74674675, 8354.35435435, 8361.96196196, 8369.56956957,\n",
       "       8377.17717718, 8384.78478478, 8392.39239239, 8400.        ])"
      ]
     },
     "execution_count": 32,
     "metadata": {},
     "output_type": "execute_result"
    }
   ],
   "source": [
    "xx"
   ]
  },
  {
   "cell_type": "code",
   "execution_count": 33,
   "metadata": {},
   "outputs": [
    {
     "data": {
      "text/plain": [
       "array([ 2087.51812556,  2107.36939902,  2127.22067249,  2147.07194595,\n",
       "        2166.92321942,  2186.77449289,  2206.62576635,  2226.47703982,\n",
       "        2246.32831329,  2266.17958675,  2286.03086022,  2305.88213368,\n",
       "        2325.73340715,  2345.58468062,  2365.43595408,  2385.28722755,\n",
       "        2405.13850102,  2424.98977448,  2444.84104795,  2464.69232141,\n",
       "        2484.54359488,  2504.39486835,  2524.24614181,  2544.09741528,\n",
       "        2563.94868875,  2583.79996221,  2603.65123568,  2623.50250914,\n",
       "        2643.35378261,  2663.20505608,  2683.05632954,  2702.90760301,\n",
       "        2722.75887648,  2742.61014994,  2762.46142341,  2782.31269687,\n",
       "        2802.16397034,  2822.01524381,  2841.86651727,  2861.71779074,\n",
       "        2881.56906421,  2901.42033767,  2921.27161114,  2941.1228846 ,\n",
       "        2960.97415807,  2980.82543154,  3000.676705  ,  3020.52797847,\n",
       "        3040.37925194,  3060.2305254 ,  3080.08179887,  3099.93307233,\n",
       "        3119.7843458 ,  3139.63561927,  3159.48689273,  3179.3381662 ,\n",
       "        3199.18943967,  3219.04071313,  3238.8919866 ,  3258.74326006,\n",
       "        3278.59453353,  3298.445807  ,  3318.29708046,  3338.14835393,\n",
       "        3357.9996274 ,  3377.85090086,  3397.70217433,  3417.55344779,\n",
       "        3437.40472126,  3457.25599473,  3477.10726819,  3496.95854166,\n",
       "        3516.80981513,  3536.66108859,  3556.51236206,  3576.36363552,\n",
       "        3596.21490899,  3616.06618246,  3635.91745592,  3655.76872939,\n",
       "        3675.62000286,  3695.47127632,  3715.32254979,  3735.17382325,\n",
       "        3755.02509672,  3774.87637019,  3794.72764365,  3814.57891712,\n",
       "        3834.43019059,  3854.28146405,  3874.13273752,  3893.98401098,\n",
       "        3913.83528445,  3933.68655792,  3953.53783138,  3973.38910485,\n",
       "        3993.24037832,  4013.09165178,  4032.94292525,  4052.79419871,\n",
       "        4072.64547218,  4092.49674565,  4112.34801911,  4132.19929258,\n",
       "        4152.05056605,  4171.90183951,  4191.75311298,  4211.60438644,\n",
       "        4231.45565991,  4251.30693338,  4271.15820684,  4291.00948031,\n",
       "        4310.86075378,  4330.71202724,  4350.56330071,  4370.41457417,\n",
       "        4390.26584764,  4410.11712111,  4429.96839457,  4449.81966804,\n",
       "        4469.67094151,  4489.52221497,  4509.37348844,  4529.2247619 ,\n",
       "        4549.07603537,  4568.92730884,  4588.7785823 ,  4608.62985577,\n",
       "        4628.48112923,  4648.3324027 ,  4668.18367617,  4688.03494963,\n",
       "        4707.8862231 ,  4727.73749657,  4747.58877003,  4767.4400435 ,\n",
       "        4787.29131696,  4807.14259043,  4826.9938639 ,  4846.84513736,\n",
       "        4866.69641083,  4886.5476843 ,  4906.39895776,  4926.25023123,\n",
       "        4946.10150469,  4965.95277816,  4985.80405163,  5005.65532509,\n",
       "        5025.50659856,  5045.35787203,  5065.20914549,  5085.06041896,\n",
       "        5104.91169242,  5124.76296589,  5144.61423936,  5164.46551282,\n",
       "        5184.31678629,  5204.16805976,  5224.01933322,  5243.87060669,\n",
       "        5263.72188015,  5283.57315362,  5303.42442709,  5323.27570055,\n",
       "        5343.12697402,  5362.97824749,  5382.82952095,  5402.68079442,\n",
       "        5422.53206788,  5442.38334135,  5462.23461482,  5482.08588828,\n",
       "        5501.93716175,  5521.78843522,  5541.63970868,  5561.49098215,\n",
       "        5581.34225561,  5601.19352908,  5621.04480255,  5640.89607601,\n",
       "        5660.74734948,  5680.59862295,  5700.44989641,  5720.30116988,\n",
       "        5740.15244334,  5760.00371681,  5779.85499028,  5799.70626374,\n",
       "        5819.55753721,  5839.40881068,  5859.26008414,  5879.11135761,\n",
       "        5898.96263107,  5918.81390454,  5938.66517801,  5958.51645147,\n",
       "        5978.36772494,  5998.21899841,  6018.07027187,  6037.92154534,\n",
       "        6057.7728188 ,  6077.62409227,  6097.47536574,  6117.3266392 ,\n",
       "        6137.17791267,  6157.02918614,  6176.8804596 ,  6196.73173307,\n",
       "        6216.58300653,  6236.43428   ,  6256.28555347,  6276.13682693,\n",
       "        6295.9881004 ,  6315.83937387,  6335.69064733,  6355.5419208 ,\n",
       "        6375.39319426,  6395.24446773,  6415.0957412 ,  6434.94701466,\n",
       "        6454.79828813,  6474.6495616 ,  6494.50083506,  6514.35210853,\n",
       "        6534.20338199,  6554.05465546,  6573.90592893,  6593.75720239,\n",
       "        6613.60847586,  6633.45974933,  6653.31102279,  6673.16229626,\n",
       "        6693.01356972,  6712.86484319,  6732.71611666,  6752.56739012,\n",
       "        6772.41866359,  6792.26993706,  6812.12121052,  6831.97248399,\n",
       "        6851.82375745,  6871.67503092,  6891.52630439,  6911.37757785,\n",
       "        6931.22885132,  6951.08012479,  6970.93139825,  6990.78267172,\n",
       "        7010.63394518,  7030.48521865,  7050.33649212,  7070.18776558,\n",
       "        7090.03903905,  7109.89031252,  7129.74158598,  7149.59285945,\n",
       "        7169.44413291,  7189.29540638,  7209.14667985,  7228.99795331,\n",
       "        7248.84922678,  7268.70050025,  7288.55177371,  7308.40304718,\n",
       "        7328.25432064,  7348.10559411,  7367.95686758,  7387.80814104,\n",
       "        7407.65941451,  7427.51068798,  7447.36196144,  7467.21323491,\n",
       "        7487.06450837,  7506.91578184,  7526.76705531,  7546.61832877,\n",
       "        7566.46960224,  7586.32087571,  7606.17214917,  7626.02342264,\n",
       "        7645.8746961 ,  7665.72596957,  7685.57724304,  7705.4285165 ,\n",
       "        7725.27978997,  7745.13106344,  7764.9823369 ,  7784.83361037,\n",
       "        7804.68488383,  7824.5361573 ,  7844.38743077,  7864.23870423,\n",
       "        7884.0899777 ,  7903.94125117,  7923.79252463,  7943.6437981 ,\n",
       "        7963.49507156,  7983.34634503,  8003.1976185 ,  8023.04889196,\n",
       "        8042.90016543,  8062.7514389 ,  8082.60271236,  8102.45398583,\n",
       "        8122.30525929,  8142.15653276,  8162.00780623,  8181.85907969,\n",
       "        8201.71035316,  8221.56162663,  8241.41290009,  8261.26417356,\n",
       "        8281.11544702,  8300.96672049,  8320.81799396,  8340.66926742,\n",
       "        8360.52054089,  8380.37181436,  8400.22308782,  8420.07436129,\n",
       "        8439.92563475,  8459.77690822,  8479.62818169,  8499.47945515,\n",
       "        8519.33072862,  8539.18200209,  8559.03327555,  8578.88454902,\n",
       "        8598.73582248,  8618.58709595,  8638.43836942,  8658.28964288,\n",
       "        8678.14091635,  8697.99218982,  8717.84346328,  8737.69473675,\n",
       "        8757.54601021,  8777.39728368,  8797.24855715,  8817.09983061,\n",
       "        8836.95110408,  8856.80237755,  8876.65365101,  8896.50492448,\n",
       "        8916.35619794,  8936.20747141,  8956.05874488,  8975.91001834,\n",
       "        8995.76129181,  9015.61256528,  9035.46383874,  9055.31511221,\n",
       "        9075.16638567,  9095.01765914,  9114.86893261,  9134.72020607,\n",
       "        9154.57147954,  9174.42275301,  9194.27402647,  9214.12529994,\n",
       "        9233.9765734 ,  9253.82784687,  9273.67912034,  9293.5303938 ,\n",
       "        9313.38166727,  9333.23294074,  9353.0842142 ,  9372.93548767,\n",
       "        9392.78676113,  9412.6380346 ,  9432.48930807,  9452.34058153,\n",
       "        9472.191855  ,  9492.04312846,  9511.89440193,  9531.7456754 ,\n",
       "        9551.59694886,  9571.44822233,  9591.2994958 ,  9611.15076926,\n",
       "        9631.00204273,  9650.85331619,  9670.70458966,  9690.55586313,\n",
       "        9710.40713659,  9730.25841006,  9750.10968353,  9769.96095699,\n",
       "        9789.81223046,  9809.66350392,  9829.51477739,  9849.36605086,\n",
       "        9869.21732432,  9889.06859779,  9908.91987126,  9928.77114472,\n",
       "        9948.62241819,  9968.47369165,  9988.32496512, 10008.17623859,\n",
       "       10028.02751205, 10047.87878552, 10067.73005899, 10087.58133245,\n",
       "       10107.43260592, 10127.28387938, 10147.13515285, 10166.98642632,\n",
       "       10186.83769978, 10206.68897325, 10226.54024672, 10246.39152018,\n",
       "       10266.24279365, 10286.09406711, 10305.94534058, 10325.79661405,\n",
       "       10345.64788751, 10365.49916098, 10385.35043445, 10405.20170791,\n",
       "       10425.05298138, 10444.90425484, 10464.75552831, 10484.60680178,\n",
       "       10504.45807524, 10524.30934871, 10544.16062218, 10564.01189564,\n",
       "       10583.86316911, 10603.71444257, 10623.56571604, 10643.41698951,\n",
       "       10663.26826297, 10683.11953644, 10702.97080991, 10722.82208337,\n",
       "       10742.67335684, 10762.5246303 , 10782.37590377, 10802.22717724,\n",
       "       10822.0784507 , 10841.92972417, 10861.78099764, 10881.6322711 ,\n",
       "       10901.48354457, 10921.33481803, 10941.1860915 , 10961.03736497,\n",
       "       10980.88863843, 11000.7399119 , 11020.59118537, 11040.44245883,\n",
       "       11060.2937323 , 11080.14500576, 11099.99627923, 11119.8475527 ,\n",
       "       11139.69882616, 11159.55009963, 11179.4013731 , 11199.25264656,\n",
       "       11219.10392003, 11238.95519349, 11258.80646696, 11278.65774043,\n",
       "       11298.50901389, 11318.36028736, 11338.21156083, 11358.06283429,\n",
       "       11377.91410776, 11397.76538122, 11417.61665469, 11437.46792816,\n",
       "       11457.31920162, 11477.17047509, 11497.02174856, 11516.87302202,\n",
       "       11536.72429549, 11556.57556895, 11576.42684242, 11596.27811589,\n",
       "       11616.12938935, 11635.98066282, 11655.83193629, 11675.68320975,\n",
       "       11695.53448322, 11715.38575668, 11735.23703015, 11755.08830362,\n",
       "       11774.93957708, 11794.79085055, 11814.64212402, 11834.49339748,\n",
       "       11854.34467095, 11874.19594441, 11894.04721788, 11913.89849135,\n",
       "       11933.74976481, 11953.60103828, 11973.45231175, 11993.30358521,\n",
       "       12013.15485868, 12033.00613214, 12052.85740561, 12072.70867908,\n",
       "       12092.55995254, 12112.41122601, 12132.26249948, 12152.11377294,\n",
       "       12171.96504641, 12191.81631987, 12211.66759334, 12231.51886681,\n",
       "       12251.37014027, 12271.22141374, 12291.07268721, 12310.92396067,\n",
       "       12330.77523414, 12350.6265076 , 12370.47778107, 12390.32905454,\n",
       "       12410.180328  , 12430.03160147, 12449.88287494, 12469.7341484 ,\n",
       "       12489.58542187, 12509.43669533, 12529.2879688 , 12549.13924227,\n",
       "       12568.99051573, 12588.8417892 , 12608.69306267, 12628.54433613,\n",
       "       12648.3956096 , 12668.24688306, 12688.09815653, 12707.94943   ,\n",
       "       12727.80070346, 12747.65197693, 12767.5032504 , 12787.35452386,\n",
       "       12807.20579733, 12827.05707079, 12846.90834426, 12866.75961773,\n",
       "       12886.61089119, 12906.46216466, 12926.31343813, 12946.16471159,\n",
       "       12966.01598506, 12985.86725852, 13005.71853199, 13025.56980546,\n",
       "       13045.42107892, 13065.27235239, 13085.12362586, 13104.97489932,\n",
       "       13124.82617279, 13144.67744625, 13164.52871972, 13184.37999319,\n",
       "       13204.23126665, 13224.08254012, 13243.93381359, 13263.78508705,\n",
       "       13283.63636052, 13303.48763398, 13323.33890745, 13343.19018092,\n",
       "       13363.04145438, 13382.89272785, 13402.74400132, 13422.59527478,\n",
       "       13442.44654825, 13462.29782171, 13482.14909518, 13502.00036865,\n",
       "       13521.85164211, 13541.70291558, 13561.55418905, 13581.40546251,\n",
       "       13601.25673598, 13621.10800944, 13640.95928291, 13660.81055638,\n",
       "       13680.66182984, 13700.51310331, 13720.36437678, 13740.21565024,\n",
       "       13760.06692371, 13779.91819717, 13799.76947064, 13819.62074411,\n",
       "       13839.47201757, 13859.32329104, 13879.17456451, 13899.02583797,\n",
       "       13918.87711144, 13938.7283849 , 13958.57965837, 13978.43093184,\n",
       "       13998.2822053 , 14018.13347877, 14037.98475224, 14057.8360257 ,\n",
       "       14077.68729917, 14097.53857263, 14117.3898461 , 14137.24111957,\n",
       "       14157.09239303, 14176.9436665 , 14196.79493997, 14216.64621343,\n",
       "       14236.4974869 , 14256.34876036, 14276.20003383, 14296.0513073 ,\n",
       "       14315.90258076, 14335.75385423, 14355.60512769, 14375.45640116,\n",
       "       14395.30767463, 14415.15894809, 14435.01022156, 14454.86149503,\n",
       "       14474.71276849, 14494.56404196, 14514.41531542, 14534.26658889,\n",
       "       14554.11786236, 14573.96913582, 14593.82040929, 14613.67168276,\n",
       "       14633.52295622, 14653.37422969, 14673.22550315, 14693.07677662,\n",
       "       14712.92805009, 14732.77932355, 14752.63059702, 14772.48187049,\n",
       "       14792.33314395, 14812.18441742, 14832.03569088, 14851.88696435,\n",
       "       14871.73823782, 14891.58951128, 14911.44078475, 14931.29205822,\n",
       "       14951.14333168, 14970.99460515, 14990.84587861, 15010.69715208,\n",
       "       15030.54842555, 15050.39969901, 15070.25097248, 15090.10224595,\n",
       "       15109.95351941, 15129.80479288, 15149.65606634, 15169.50733981,\n",
       "       15189.35861328, 15209.20988674, 15229.06116021, 15248.91243368,\n",
       "       15268.76370714, 15288.61498061, 15308.46625407, 15328.31752754,\n",
       "       15348.16880101, 15368.02007447, 15387.87134794, 15407.72262141,\n",
       "       15427.57389487, 15447.42516834, 15467.2764418 , 15487.12771527,\n",
       "       15506.97898874, 15526.8302622 , 15546.68153567, 15566.53280914,\n",
       "       15586.3840826 , 15606.23535607, 15626.08662953, 15645.937903  ,\n",
       "       15665.78917647, 15685.64044993, 15705.4917234 , 15725.34299687,\n",
       "       15745.19427033, 15765.0455438 , 15784.89681726, 15804.74809073,\n",
       "       15824.5993642 , 15844.45063766, 15864.30191113, 15884.1531846 ,\n",
       "       15904.00445806, 15923.85573153, 15943.70700499, 15963.55827846,\n",
       "       15983.40955193, 16003.26082539, 16023.11209886, 16042.96337233,\n",
       "       16062.81464579, 16082.66591926, 16102.51719272, 16122.36846619,\n",
       "       16142.21973966, 16162.07101312, 16181.92228659, 16201.77356006,\n",
       "       16221.62483352, 16241.47610699, 16261.32738045, 16281.17865392,\n",
       "       16301.02992739, 16320.88120085, 16340.73247432, 16360.58374779,\n",
       "       16380.43502125, 16400.28629472, 16420.13756818, 16439.98884165,\n",
       "       16459.84011512, 16479.69138858, 16499.54266205, 16519.39393552,\n",
       "       16539.24520898, 16559.09648245, 16578.94775591, 16598.79902938,\n",
       "       16618.65030285, 16638.50157631, 16658.35284978, 16678.20412325,\n",
       "       16698.05539671, 16717.90667018, 16737.75794364, 16757.60921711,\n",
       "       16777.46049058, 16797.31176404, 16817.16303751, 16837.01431098,\n",
       "       16856.86558444, 16876.71685791, 16896.56813137, 16916.41940484,\n",
       "       16936.27067831, 16956.12195177, 16975.97322524, 16995.82449871,\n",
       "       17015.67577217, 17035.52704564, 17055.3783191 , 17075.22959257,\n",
       "       17095.08086604, 17114.9321395 , 17134.78341297, 17154.63468644,\n",
       "       17174.4859599 , 17194.33723337, 17214.18850683, 17234.0397803 ,\n",
       "       17253.89105377, 17273.74232723, 17293.5936007 , 17313.44487417,\n",
       "       17333.29614763, 17353.1474211 , 17372.99869456, 17392.84996803,\n",
       "       17412.7012415 , 17432.55251496, 17452.40378843, 17472.2550619 ,\n",
       "       17492.10633536, 17511.95760883, 17531.80888229, 17551.66015576,\n",
       "       17571.51142923, 17591.36270269, 17611.21397616, 17631.06524963,\n",
       "       17650.91652309, 17670.76779656, 17690.61907002, 17710.47034349,\n",
       "       17730.32161696, 17750.17289042, 17770.02416389, 17789.87543736,\n",
       "       17809.72671082, 17829.57798429, 17849.42925775, 17869.28053122,\n",
       "       17889.13180469, 17908.98307815, 17928.83435162, 17948.68562509,\n",
       "       17968.53689855, 17988.38817202, 18008.23944548, 18028.09071895,\n",
       "       18047.94199242, 18067.79326588, 18087.64453935, 18107.49581282,\n",
       "       18127.34708628, 18147.19835975, 18167.04963321, 18186.90090668,\n",
       "       18206.75218015, 18226.60345361, 18246.45472708, 18266.30600055,\n",
       "       18286.15727401, 18306.00854748, 18325.85982094, 18345.71109441,\n",
       "       18365.56236788, 18385.41364134, 18405.26491481, 18425.11618828,\n",
       "       18444.96746174, 18464.81873521, 18484.67000867, 18504.52128214,\n",
       "       18524.37255561, 18544.22382907, 18564.07510254, 18583.92637601,\n",
       "       18603.77764947, 18623.62892294, 18643.4801964 , 18663.33146987,\n",
       "       18683.18274334, 18703.0340168 , 18722.88529027, 18742.73656374,\n",
       "       18762.5878372 , 18782.43911067, 18802.29038413, 18822.1416576 ,\n",
       "       18841.99293107, 18861.84420453, 18881.695478  , 18901.54675147,\n",
       "       18921.39802493, 18941.2492984 , 18961.10057186, 18980.95184533,\n",
       "       19000.8031188 , 19020.65439226, 19040.50566573, 19060.3569392 ,\n",
       "       19080.20821266, 19100.05948613, 19119.91075959, 19139.76203306,\n",
       "       19159.61330653, 19179.46457999, 19199.31585346, 19219.16712692,\n",
       "       19239.01840039, 19258.86967386, 19278.72094732, 19298.57222079,\n",
       "       19318.42349426, 19338.27476772, 19358.12604119, 19377.97731465,\n",
       "       19397.82858812, 19417.67986159, 19437.53113505, 19457.38240852,\n",
       "       19477.23368199, 19497.08495545, 19516.93622892, 19536.78750238,\n",
       "       19556.63877585, 19576.49004932, 19596.34132278, 19616.19259625,\n",
       "       19636.04386972, 19655.89514318, 19675.74641665, 19695.59769011,\n",
       "       19715.44896358, 19735.30023705, 19755.15151051, 19775.00278398,\n",
       "       19794.85405745, 19814.70533091, 19834.55660438, 19854.40787784,\n",
       "       19874.25915131, 19894.11042478, 19913.96169824, 19933.81297171,\n",
       "       19953.66424518, 19973.51551864, 19993.36679211, 20013.21806557,\n",
       "       20033.06933904, 20052.92061251, 20072.77188597, 20092.62315944,\n",
       "       20112.47443291, 20132.32570637, 20152.17697984, 20172.0282533 ,\n",
       "       20191.87952677, 20211.73080024, 20231.5820737 , 20251.43334717,\n",
       "       20271.28462064, 20291.1358941 , 20310.98716757, 20330.83844103,\n",
       "       20350.6897145 , 20370.54098797, 20390.39226143, 20410.2435349 ,\n",
       "       20430.09480837, 20449.94608183, 20469.7973553 , 20489.64862876,\n",
       "       20509.49990223, 20529.3511757 , 20549.20244916, 20569.05372263,\n",
       "       20588.9049961 , 20608.75626956, 20628.60754303, 20648.45881649,\n",
       "       20668.31008996, 20688.16136343, 20708.01263689, 20727.86391036,\n",
       "       20747.71518383, 20767.56645729, 20787.41773076, 20807.26900422,\n",
       "       20827.12027769, 20846.97155116, 20866.82282462, 20886.67409809,\n",
       "       20906.52537156, 20926.37664502, 20946.22791849, 20966.07919195,\n",
       "       20985.93046542, 21005.78173889, 21025.63301235, 21045.48428582,\n",
       "       21065.33555929, 21085.18683275, 21105.03810622, 21124.88937968,\n",
       "       21144.74065315, 21164.59192662, 21184.44320008, 21204.29447355,\n",
       "       21224.14574702, 21243.99702048, 21263.84829395, 21283.69956741,\n",
       "       21303.55084088, 21323.40211435, 21343.25338781, 21363.10466128,\n",
       "       21382.95593475, 21402.80720821, 21422.65848168, 21442.50975514,\n",
       "       21462.36102861, 21482.21230208, 21502.06357554, 21521.91484901,\n",
       "       21541.76612248, 21561.61739594, 21581.46866941, 21601.31994287,\n",
       "       21621.17121634, 21641.02248981, 21660.87376327, 21680.72503674,\n",
       "       21700.57631021, 21720.42758367, 21740.27885714, 21760.1301306 ,\n",
       "       21779.98140407, 21799.83267754, 21819.683951  , 21839.53522447,\n",
       "       21859.38649794, 21879.2377714 , 21899.08904487, 21918.94031833])"
      ]
     },
     "execution_count": 33,
     "metadata": {},
     "output_type": "execute_result"
    }
   ],
   "source": [
    "yy"
   ]
  },
  {
   "cell_type": "code",
   "execution_count": 34,
   "metadata": {},
   "outputs": [
    {
     "data": {
      "text/plain": [
       "[<matplotlib.lines.Line2D at 0x1a5ec1cc5f8>]"
      ]
     },
     "execution_count": 34,
     "metadata": {},
     "output_type": "execute_result"
    },
    {
     "data": {
      "image/png": "[encoded data removed]",
      "text/plain": [
       "<Figure size 432x288 with 1 Axes>"
      ]
     },
     "metadata": {
      "needs_background": "light"
     },
     "output_type": "display_data"
    }
   ],
   "source": [
    "plt.plot(x,y,'k.')"
   ]
  },
  {
   "cell_type": "code",
   "execution_count": 35,
   "metadata": {},
   "outputs": [
    {
     "data": {
      "text/plain": [
       "<matplotlib.legend.Legend at 0x1a5ec20bb70>"
      ]
     },
     "execution_count": 35,
     "metadata": {},
     "output_type": "execute_result"
    },
    {
     "data": {
      "image/png": "[encoded data removed]",
      "text/plain": [
       "<Figure size 432x288 with 1 Axes>"
      ]
     },
     "metadata": {
      "needs_background": "light"
     },
     "output_type": "display_data"
    }
   ],
   "source": [
    "plt.plot(x,y,'k.')\n",
    "plt.plot(xx, yy, 'b--', label=\"mean ratio = %.2f\" % mean_ratio)\n",
    "\n",
    "# add axis labels\n",
    "plt.xlabel(\"No. of Contributing Users\")\n",
    "plt.ylabel(\"No of Edits\")\n",
    "plt.minorticks_on()\n",
    "plt.title(\"Forbes 100 Celebrities' Wikipedia Pages\")\n",
    "plt.legend(loc=\"upper left\", numpoints=1)"
   ]
  },
  {
   "cell_type": "code",
   "execution_count": 36,
   "metadata": {},
   "outputs": [
    {
     "data": {
      "text/plain": [
       "3604.2073170731705"
      ]
     },
     "execution_count": 36,
     "metadata": {},
     "output_type": "execute_result"
    }
   ],
   "source": [
    "# Quantify the relationship using\n",
    "# linear regression fit: y vs (x-mean(x))\n",
    "x_mean = np.mean(x)\n",
    "x_mean"
   ]
  },
  {
   "cell_type": "code",
   "execution_count": 39,
   "metadata": {},
   "outputs": [],
   "source": [
    "slope, intercept, r_value, p_value, std_err = stats.linregress(x-x_mean,y)"
   ]
  },
  {
   "cell_type": "code",
   "execution_count": 40,
   "metadata": {},
   "outputs": [
    {
     "data": {
      "text/plain": [
       "(3.17979447002623, 9626.134146341463)"
      ]
     },
     "execution_count": 40,
     "metadata": {},
     "output_type": "execute_result"
    }
   ],
   "source": [
    "slope, intercept"
   ]
  },
  {
   "cell_type": "code",
   "execution_count": 41,
   "metadata": {},
   "outputs": [
    {
     "data": {
      "text/plain": [
       "(0.8905379922596317, 4.2851570848775055e-29, 0.18160425239314257)"
      ]
     },
     "execution_count": 41,
     "metadata": {},
     "output_type": "execute_result"
    }
   ],
   "source": [
    "r_value, p_value, std_err"
   ]
  },
  {
   "cell_type": "code",
   "execution_count": 42,
   "metadata": {},
   "outputs": [],
   "source": [
    "# overlay in plot the linear regression fit\n",
    "# y = slope * (x - x_mean) + intercept\n",
    "xx_fit = xx - x_mean"
   ]
  },
  {
   "cell_type": "code",
   "execution_count": 43,
   "metadata": {},
   "outputs": [],
   "source": [
    "yy_fit = slope * xx_fit + intercept"
   ]
  },
  {
   "cell_type": "code",
   "execution_count": 47,
   "metadata": {},
   "outputs": [
    {
     "data": {
      "image/png": "[encoded data removed]",
      "text/plain": [
       "<Figure size 576x432 with 1 Axes>"
      ]
     },
     "metadata": {
      "needs_background": "light"
     },
     "output_type": "display_data"
    }
   ],
   "source": [
    "plt.figure(figsize=(8,6))\n",
    "plt.plot(x, y, 'k.')\n",
    "plt.plot(xx, yy, 'b-', label = \"mean ratio = %.2f\" % mean_ratio)\n",
    "plt.plot(xx, yy_fit, 'r-', label=\"linreg slope = %.2f\" % slope)\n",
    "\n",
    "# add axis labels\n",
    "plt.xlabel(\"No. Contributin Users\")\n",
    "plt.ylabel(\"No. of Edits\")\n",
    "plt.minorticks_on()\n",
    "plt.title(\"Forbes 100 Celebrities' Wikipedia Pages\")\n",
    "plt.legend(loc=\"upper left\", numpoints=1)\n",
    "plt.ylim((0, 27000))\n",
    "\n",
    "# save to png file\n",
    "plt.savefig(\"../fig/fig_wikipedia_users_vs_no_of_edits.png\")\n"
   ]
  },
  {
   "cell_type": "code",
   "execution_count": null,
   "metadata": {},
   "outputs": [],
   "source": []
  }
 ],
 "metadata": {
  "kernelspec": {
   "display_name": "Python 3",
   "language": "python",
   "name": "python3"
  },
  "language_info": {
   "codemirror_mode": {
    "name": "ipython",
    "version": 3
   },
   "file_extension": ".py",
   "mimetype": "text/x-python",
   "name": "python",
   "nbconvert_exporter": "python",
   "pygments_lexer": "ipython3",
   "version": "3.7.3"
  }
 },
 "nbformat": 4,
 "nbformat_minor": 2
}
