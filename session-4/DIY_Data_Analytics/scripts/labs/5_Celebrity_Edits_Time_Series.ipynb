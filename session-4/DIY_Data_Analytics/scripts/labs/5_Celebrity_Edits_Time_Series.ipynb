{
 "cells": [
  {
   "cell_type": "code",
   "execution_count": 1,
   "metadata": {},
   "outputs": [],
   "source": [
    "import pandas as pd\n",
    "import numpy as np \n",
    "import matplotlib.pyplot as plt\n",
    "import matplotlib\n",
    "%matplotlib inline"
   ]
  },
  {
   "cell_type": "code",
   "execution_count": 2,
   "metadata": {},
   "outputs": [],
   "source": [
    "fn = \"../input/wikipedia_edits.csv.zip\"\n",
    "df = pd.read_csv(fn)"
   ]
  },
  {
   "cell_type": "code",
   "execution_count": 3,
   "metadata": {},
   "outputs": [
    {
     "data": {
      "text/plain": [
       "789343"
      ]
     },
     "execution_count": 3,
     "metadata": {},
     "output_type": "execute_result"
    }
   ],
   "source": [
    "len(df)"
   ]
  },
  {
   "cell_type": "code",
   "execution_count": 4,
   "metadata": {},
   "outputs": [
    {
     "data": {
      "text/html": [
       "<div>\n",
       "<style scoped>\n",
       "    .dataframe tbody tr th:only-of-type {\n",
       "        vertical-align: middle;\n",
       "    }\n",
       "\n",
       "    .dataframe tbody tr th {\n",
       "        vertical-align: top;\n",
       "    }\n",
       "\n",
       "    .dataframe thead th {\n",
       "        text-align: right;\n",
       "    }\n",
       "</style>\n",
       "<table border=\"1\" class=\"dataframe\">\n",
       "  <thead>\n",
       "    <tr style=\"text-align: right;\">\n",
       "      <th></th>\n",
       "      <th>title</th>\n",
       "      <th>parentid</th>\n",
       "      <th>revid</th>\n",
       "      <th>timestamp</th>\n",
       "      <th>user</th>\n",
       "      <th>userid</th>\n",
       "      <th>size</th>\n",
       "      <th>recipient</th>\n",
       "      <th>year</th>\n",
       "      <th>rank</th>\n",
       "      <th>country</th>\n",
       "      <th>career</th>\n",
       "      <th>tied</th>\n",
       "    </tr>\n",
       "  </thead>\n",
       "  <tbody>\n",
       "    <tr>\n",
       "      <th>0</th>\n",
       "      <td>50_Cent</td>\n",
       "      <td>858765697</td>\n",
       "      <td>858858564</td>\n",
       "      <td>2018-09-10T02:52:25Z</td>\n",
       "      <td>ProspectIV</td>\n",
       "      <td>33893830.0</td>\n",
       "      <td>132452</td>\n",
       "      <td>50 Cent</td>\n",
       "      <td>2006</td>\n",
       "      <td>8</td>\n",
       "      <td>United States</td>\n",
       "      <td>Musician</td>\n",
       "      <td>0</td>\n",
       "    </tr>\n",
       "    <tr>\n",
       "      <th>1</th>\n",
       "      <td>50_Cent</td>\n",
       "      <td>858673799</td>\n",
       "      <td>858765697</td>\n",
       "      <td>2018-09-09T13:11:00Z</td>\n",
       "      <td>ProspectIV</td>\n",
       "      <td>33893830.0</td>\n",
       "      <td>132476</td>\n",
       "      <td>50 Cent</td>\n",
       "      <td>2006</td>\n",
       "      <td>8</td>\n",
       "      <td>United States</td>\n",
       "      <td>Musician</td>\n",
       "      <td>0</td>\n",
       "    </tr>\n",
       "    <tr>\n",
       "      <th>2</th>\n",
       "      <td>50_Cent</td>\n",
       "      <td>858673121</td>\n",
       "      <td>858673799</td>\n",
       "      <td>2018-09-08T21:46:42Z</td>\n",
       "      <td>ProspectIV</td>\n",
       "      <td>33893830.0</td>\n",
       "      <td>132444</td>\n",
       "      <td>50 Cent</td>\n",
       "      <td>2006</td>\n",
       "      <td>8</td>\n",
       "      <td>United States</td>\n",
       "      <td>Musician</td>\n",
       "      <td>0</td>\n",
       "    </tr>\n",
       "    <tr>\n",
       "      <th>3</th>\n",
       "      <td>50_Cent</td>\n",
       "      <td>858673016</td>\n",
       "      <td>858673121</td>\n",
       "      <td>2018-09-08T21:39:37Z</td>\n",
       "      <td>ProspectIV</td>\n",
       "      <td>33893830.0</td>\n",
       "      <td>132345</td>\n",
       "      <td>50 Cent</td>\n",
       "      <td>2006</td>\n",
       "      <td>8</td>\n",
       "      <td>United States</td>\n",
       "      <td>Musician</td>\n",
       "      <td>0</td>\n",
       "    </tr>\n",
       "    <tr>\n",
       "      <th>4</th>\n",
       "      <td>50_Cent</td>\n",
       "      <td>858469414</td>\n",
       "      <td>858673016</td>\n",
       "      <td>2018-09-08T21:38:24Z</td>\n",
       "      <td>ProspectIV</td>\n",
       "      <td>33893830.0</td>\n",
       "      <td>132345</td>\n",
       "      <td>50 Cent</td>\n",
       "      <td>2006</td>\n",
       "      <td>8</td>\n",
       "      <td>United States</td>\n",
       "      <td>Musician</td>\n",
       "      <td>0</td>\n",
       "    </tr>\n",
       "  </tbody>\n",
       "</table>\n",
       "</div>"
      ],
      "text/plain": [
       "     title   parentid      revid             timestamp        user  \\\n",
       "0  50_Cent  858765697  858858564  2018-09-10T02:52:25Z  ProspectIV   \n",
       "1  50_Cent  858673799  858765697  2018-09-09T13:11:00Z  ProspectIV   \n",
       "2  50_Cent  858673121  858673799  2018-09-08T21:46:42Z  ProspectIV   \n",
       "3  50_Cent  858673016  858673121  2018-09-08T21:39:37Z  ProspectIV   \n",
       "4  50_Cent  858469414  858673016  2018-09-08T21:38:24Z  ProspectIV   \n",
       "\n",
       "       userid    size recipient  year  rank        country    career  tied  \n",
       "0  33893830.0  132452   50 Cent  2006     8  United States  Musician     0  \n",
       "1  33893830.0  132476   50 Cent  2006     8  United States  Musician     0  \n",
       "2  33893830.0  132444   50 Cent  2006     8  United States  Musician     0  \n",
       "3  33893830.0  132345   50 Cent  2006     8  United States  Musician     0  \n",
       "4  33893830.0  132345   50 Cent  2006     8  United States  Musician     0  "
      ]
     },
     "execution_count": 4,
     "metadata": {},
     "output_type": "execute_result"
    }
   ],
   "source": [
    "df.head()"
   ]
  },
  {
   "cell_type": "code",
   "execution_count": 5,
   "metadata": {},
   "outputs": [],
   "source": [
    "# Visualize trends over time df wi timeseries charts\n",
    "df[\"timestamp\"] = pd.to_datetime(df[\"timestamp\"])"
   ]
  },
  {
   "cell_type": "code",
   "execution_count": 6,
   "metadata": {},
   "outputs": [
    {
     "data": {
      "text/html": [
       "<div>\n",
       "<style scoped>\n",
       "    .dataframe tbody tr th:only-of-type {\n",
       "        vertical-align: middle;\n",
       "    }\n",
       "\n",
       "    .dataframe tbody tr th {\n",
       "        vertical-align: top;\n",
       "    }\n",
       "\n",
       "    .dataframe thead th {\n",
       "        text-align: right;\n",
       "    }\n",
       "</style>\n",
       "<table border=\"1\" class=\"dataframe\">\n",
       "  <thead>\n",
       "    <tr style=\"text-align: right;\">\n",
       "      <th></th>\n",
       "      <th>title</th>\n",
       "      <th>parentid</th>\n",
       "      <th>revid</th>\n",
       "      <th>timestamp</th>\n",
       "      <th>user</th>\n",
       "      <th>userid</th>\n",
       "      <th>size</th>\n",
       "      <th>recipient</th>\n",
       "      <th>year</th>\n",
       "      <th>rank</th>\n",
       "      <th>country</th>\n",
       "      <th>career</th>\n",
       "      <th>tied</th>\n",
       "    </tr>\n",
       "  </thead>\n",
       "  <tbody>\n",
       "    <tr>\n",
       "      <th>0</th>\n",
       "      <td>50_Cent</td>\n",
       "      <td>858765697</td>\n",
       "      <td>858858564</td>\n",
       "      <td>2018-09-10 02:52:25+00:00</td>\n",
       "      <td>ProspectIV</td>\n",
       "      <td>33893830.0</td>\n",
       "      <td>132452</td>\n",
       "      <td>50 Cent</td>\n",
       "      <td>2006</td>\n",
       "      <td>8</td>\n",
       "      <td>United States</td>\n",
       "      <td>Musician</td>\n",
       "      <td>0</td>\n",
       "    </tr>\n",
       "    <tr>\n",
       "      <th>1</th>\n",
       "      <td>50_Cent</td>\n",
       "      <td>858673799</td>\n",
       "      <td>858765697</td>\n",
       "      <td>2018-09-09 13:11:00+00:00</td>\n",
       "      <td>ProspectIV</td>\n",
       "      <td>33893830.0</td>\n",
       "      <td>132476</td>\n",
       "      <td>50 Cent</td>\n",
       "      <td>2006</td>\n",
       "      <td>8</td>\n",
       "      <td>United States</td>\n",
       "      <td>Musician</td>\n",
       "      <td>0</td>\n",
       "    </tr>\n",
       "    <tr>\n",
       "      <th>2</th>\n",
       "      <td>50_Cent</td>\n",
       "      <td>858673121</td>\n",
       "      <td>858673799</td>\n",
       "      <td>2018-09-08 21:46:42+00:00</td>\n",
       "      <td>ProspectIV</td>\n",
       "      <td>33893830.0</td>\n",
       "      <td>132444</td>\n",
       "      <td>50 Cent</td>\n",
       "      <td>2006</td>\n",
       "      <td>8</td>\n",
       "      <td>United States</td>\n",
       "      <td>Musician</td>\n",
       "      <td>0</td>\n",
       "    </tr>\n",
       "    <tr>\n",
       "      <th>3</th>\n",
       "      <td>50_Cent</td>\n",
       "      <td>858673016</td>\n",
       "      <td>858673121</td>\n",
       "      <td>2018-09-08 21:39:37+00:00</td>\n",
       "      <td>ProspectIV</td>\n",
       "      <td>33893830.0</td>\n",
       "      <td>132345</td>\n",
       "      <td>50 Cent</td>\n",
       "      <td>2006</td>\n",
       "      <td>8</td>\n",
       "      <td>United States</td>\n",
       "      <td>Musician</td>\n",
       "      <td>0</td>\n",
       "    </tr>\n",
       "    <tr>\n",
       "      <th>4</th>\n",
       "      <td>50_Cent</td>\n",
       "      <td>858469414</td>\n",
       "      <td>858673016</td>\n",
       "      <td>2018-09-08 21:38:24+00:00</td>\n",
       "      <td>ProspectIV</td>\n",
       "      <td>33893830.0</td>\n",
       "      <td>132345</td>\n",
       "      <td>50 Cent</td>\n",
       "      <td>2006</td>\n",
       "      <td>8</td>\n",
       "      <td>United States</td>\n",
       "      <td>Musician</td>\n",
       "      <td>0</td>\n",
       "    </tr>\n",
       "  </tbody>\n",
       "</table>\n",
       "</div>"
      ],
      "text/plain": [
       "     title   parentid      revid                 timestamp        user  \\\n",
       "0  50_Cent  858765697  858858564 2018-09-10 02:52:25+00:00  ProspectIV   \n",
       "1  50_Cent  858673799  858765697 2018-09-09 13:11:00+00:00  ProspectIV   \n",
       "2  50_Cent  858673121  858673799 2018-09-08 21:46:42+00:00  ProspectIV   \n",
       "3  50_Cent  858673016  858673121 2018-09-08 21:39:37+00:00  ProspectIV   \n",
       "4  50_Cent  858469414  858673016 2018-09-08 21:38:24+00:00  ProspectIV   \n",
       "\n",
       "       userid    size recipient  year  rank        country    career  tied  \n",
       "0  33893830.0  132452   50 Cent  2006     8  United States  Musician     0  \n",
       "1  33893830.0  132476   50 Cent  2006     8  United States  Musician     0  \n",
       "2  33893830.0  132444   50 Cent  2006     8  United States  Musician     0  \n",
       "3  33893830.0  132345   50 Cent  2006     8  United States  Musician     0  \n",
       "4  33893830.0  132345   50 Cent  2006     8  United States  Musician     0  "
      ]
     },
     "execution_count": 6,
     "metadata": {},
     "output_type": "execute_result"
    }
   ],
   "source": [
    "df.head()"
   ]
  },
  {
   "cell_type": "code",
   "execution_count": 7,
   "metadata": {},
   "outputs": [
    {
     "data": {
      "text/html": [
       "<div>\n",
       "<style scoped>\n",
       "    .dataframe tbody tr th:only-of-type {\n",
       "        vertical-align: middle;\n",
       "    }\n",
       "\n",
       "    .dataframe tbody tr th {\n",
       "        vertical-align: top;\n",
       "    }\n",
       "\n",
       "    .dataframe thead th {\n",
       "        text-align: right;\n",
       "    }\n",
       "</style>\n",
       "<table border=\"1\" class=\"dataframe\">\n",
       "  <thead>\n",
       "    <tr style=\"text-align: right;\">\n",
       "      <th></th>\n",
       "      <th>title</th>\n",
       "      <th>parentid</th>\n",
       "      <th>revid</th>\n",
       "      <th>timestamp</th>\n",
       "      <th>user</th>\n",
       "      <th>userid</th>\n",
       "      <th>size</th>\n",
       "      <th>recipient</th>\n",
       "      <th>year</th>\n",
       "      <th>rank</th>\n",
       "      <th>country</th>\n",
       "      <th>career</th>\n",
       "      <th>tied</th>\n",
       "      <th>date</th>\n",
       "    </tr>\n",
       "  </thead>\n",
       "  <tbody>\n",
       "    <tr>\n",
       "      <th>0</th>\n",
       "      <td>50_Cent</td>\n",
       "      <td>858765697</td>\n",
       "      <td>858858564</td>\n",
       "      <td>2018-09-10 02:52:25+00:00</td>\n",
       "      <td>ProspectIV</td>\n",
       "      <td>33893830.0</td>\n",
       "      <td>132452</td>\n",
       "      <td>50 Cent</td>\n",
       "      <td>2006</td>\n",
       "      <td>8</td>\n",
       "      <td>United States</td>\n",
       "      <td>Musician</td>\n",
       "      <td>0</td>\n",
       "      <td>2018-09-10</td>\n",
       "    </tr>\n",
       "    <tr>\n",
       "      <th>1</th>\n",
       "      <td>50_Cent</td>\n",
       "      <td>858673799</td>\n",
       "      <td>858765697</td>\n",
       "      <td>2018-09-09 13:11:00+00:00</td>\n",
       "      <td>ProspectIV</td>\n",
       "      <td>33893830.0</td>\n",
       "      <td>132476</td>\n",
       "      <td>50 Cent</td>\n",
       "      <td>2006</td>\n",
       "      <td>8</td>\n",
       "      <td>United States</td>\n",
       "      <td>Musician</td>\n",
       "      <td>0</td>\n",
       "      <td>2018-09-09</td>\n",
       "    </tr>\n",
       "    <tr>\n",
       "      <th>2</th>\n",
       "      <td>50_Cent</td>\n",
       "      <td>858673121</td>\n",
       "      <td>858673799</td>\n",
       "      <td>2018-09-08 21:46:42+00:00</td>\n",
       "      <td>ProspectIV</td>\n",
       "      <td>33893830.0</td>\n",
       "      <td>132444</td>\n",
       "      <td>50 Cent</td>\n",
       "      <td>2006</td>\n",
       "      <td>8</td>\n",
       "      <td>United States</td>\n",
       "      <td>Musician</td>\n",
       "      <td>0</td>\n",
       "      <td>2018-09-08</td>\n",
       "    </tr>\n",
       "    <tr>\n",
       "      <th>3</th>\n",
       "      <td>50_Cent</td>\n",
       "      <td>858673016</td>\n",
       "      <td>858673121</td>\n",
       "      <td>2018-09-08 21:39:37+00:00</td>\n",
       "      <td>ProspectIV</td>\n",
       "      <td>33893830.0</td>\n",
       "      <td>132345</td>\n",
       "      <td>50 Cent</td>\n",
       "      <td>2006</td>\n",
       "      <td>8</td>\n",
       "      <td>United States</td>\n",
       "      <td>Musician</td>\n",
       "      <td>0</td>\n",
       "      <td>2018-09-08</td>\n",
       "    </tr>\n",
       "    <tr>\n",
       "      <th>4</th>\n",
       "      <td>50_Cent</td>\n",
       "      <td>858469414</td>\n",
       "      <td>858673016</td>\n",
       "      <td>2018-09-08 21:38:24+00:00</td>\n",
       "      <td>ProspectIV</td>\n",
       "      <td>33893830.0</td>\n",
       "      <td>132345</td>\n",
       "      <td>50 Cent</td>\n",
       "      <td>2006</td>\n",
       "      <td>8</td>\n",
       "      <td>United States</td>\n",
       "      <td>Musician</td>\n",
       "      <td>0</td>\n",
       "      <td>2018-09-08</td>\n",
       "    </tr>\n",
       "  </tbody>\n",
       "</table>\n",
       "</div>"
      ],
      "text/plain": [
       "     title   parentid      revid                 timestamp        user  \\\n",
       "0  50_Cent  858765697  858858564 2018-09-10 02:52:25+00:00  ProspectIV   \n",
       "1  50_Cent  858673799  858765697 2018-09-09 13:11:00+00:00  ProspectIV   \n",
       "2  50_Cent  858673121  858673799 2018-09-08 21:46:42+00:00  ProspectIV   \n",
       "3  50_Cent  858673016  858673121 2018-09-08 21:39:37+00:00  ProspectIV   \n",
       "4  50_Cent  858469414  858673016 2018-09-08 21:38:24+00:00  ProspectIV   \n",
       "\n",
       "       userid    size recipient  year  rank        country    career  tied  \\\n",
       "0  33893830.0  132452   50 Cent  2006     8  United States  Musician     0   \n",
       "1  33893830.0  132476   50 Cent  2006     8  United States  Musician     0   \n",
       "2  33893830.0  132444   50 Cent  2006     8  United States  Musician     0   \n",
       "3  33893830.0  132345   50 Cent  2006     8  United States  Musician     0   \n",
       "4  33893830.0  132345   50 Cent  2006     8  United States  Musician     0   \n",
       "\n",
       "         date  \n",
       "0  2018-09-10  \n",
       "1  2018-09-09  \n",
       "2  2018-09-08  \n",
       "3  2018-09-08  \n",
       "4  2018-09-08  "
      ]
     },
     "execution_count": 7,
     "metadata": {},
     "output_type": "execute_result"
    }
   ],
   "source": [
    "# get date only from datetime\n",
    "df[\"date\"] = df[\"timestamp\"].dt.date\n",
    "df.head()"
   ]
  },
  {
   "cell_type": "code",
   "execution_count": 8,
   "metadata": {},
   "outputs": [],
   "source": [
    "title = \"Manny_Pacquiao\"\n",
    "df_sub = df[df[\"title\"]==title]"
   ]
  },
  {
   "cell_type": "code",
   "execution_count": 9,
   "metadata": {},
   "outputs": [
    {
     "data": {
      "text/plain": [
       "8917"
      ]
     },
     "execution_count": 9,
     "metadata": {},
     "output_type": "execute_result"
    }
   ],
   "source": [
    "len(df_sub)"
   ]
  },
  {
   "cell_type": "code",
   "execution_count": 10,
   "metadata": {},
   "outputs": [],
   "source": [
    "date_min = df_sub[\"date\"].min()"
   ]
  },
  {
   "cell_type": "code",
   "execution_count": 11,
   "metadata": {},
   "outputs": [],
   "source": [
    "date_max = df_sub[\"date\"].max()"
   ]
  },
  {
   "cell_type": "code",
   "execution_count": 12,
   "metadata": {},
   "outputs": [
    {
     "data": {
      "text/plain": [
       "(datetime.date(2004, 8, 20), datetime.date(2018, 9, 10))"
      ]
     },
     "execution_count": 12,
     "metadata": {},
     "output_type": "execute_result"
    }
   ],
   "source": [
    "date_min, date_max"
   ]
  },
  {
   "cell_type": "code",
   "execution_count": 13,
   "metadata": {},
   "outputs": [
    {
     "data": {
      "text/plain": [
       "'date range\" 08/202004 to  09/102018'"
      ]
     },
     "execution_count": 13,
     "metadata": {},
     "output_type": "execute_result"
    }
   ],
   "source": [
    "'date range\" {:%m/%d%Y} to  {:%m/%d%Y}'.format(date_min, date_max)"
   ]
  },
  {
   "cell_type": "code",
   "execution_count": 14,
   "metadata": {},
   "outputs": [],
   "source": [
    "df_daily = df_sub.groupby(\"date\")[\"revid\"].agg([len])"
   ]
  },
  {
   "cell_type": "code",
   "execution_count": 15,
   "metadata": {},
   "outputs": [
    {
     "data": {
      "text/html": [
       "<div>\n",
       "<style scoped>\n",
       "    .dataframe tbody tr th:only-of-type {\n",
       "        vertical-align: middle;\n",
       "    }\n",
       "\n",
       "    .dataframe tbody tr th {\n",
       "        vertical-align: top;\n",
       "    }\n",
       "\n",
       "    .dataframe thead th {\n",
       "        text-align: right;\n",
       "    }\n",
       "</style>\n",
       "<table border=\"1\" class=\"dataframe\">\n",
       "  <thead>\n",
       "    <tr style=\"text-align: right;\">\n",
       "      <th></th>\n",
       "      <th>len</th>\n",
       "    </tr>\n",
       "    <tr>\n",
       "      <th>date</th>\n",
       "      <th></th>\n",
       "    </tr>\n",
       "  </thead>\n",
       "  <tbody>\n",
       "    <tr>\n",
       "      <th>2004-08-20</th>\n",
       "      <td>5</td>\n",
       "    </tr>\n",
       "    <tr>\n",
       "      <th>2004-09-06</th>\n",
       "      <td>4</td>\n",
       "    </tr>\n",
       "    <tr>\n",
       "      <th>2004-09-12</th>\n",
       "      <td>1</td>\n",
       "    </tr>\n",
       "    <tr>\n",
       "      <th>2004-10-14</th>\n",
       "      <td>1</td>\n",
       "    </tr>\n",
       "    <tr>\n",
       "      <th>2004-10-22</th>\n",
       "      <td>1</td>\n",
       "    </tr>\n",
       "  </tbody>\n",
       "</table>\n",
       "</div>"
      ],
      "text/plain": [
       "            len\n",
       "date           \n",
       "2004-08-20    5\n",
       "2004-09-06    4\n",
       "2004-09-12    1\n",
       "2004-10-14    1\n",
       "2004-10-22    1"
      ]
     },
     "execution_count": 15,
     "metadata": {},
     "output_type": "execute_result"
    }
   ],
   "source": [
    "df_daily.head()"
   ]
  },
  {
   "cell_type": "code",
   "execution_count": 16,
   "metadata": {},
   "outputs": [],
   "source": [
    "x = df_daily.index"
   ]
  },
  {
   "cell_type": "code",
   "execution_count": 17,
   "metadata": {},
   "outputs": [],
   "source": [
    "y = df_daily[\"len\"]"
   ]
  },
  {
   "cell_type": "code",
   "execution_count": 18,
   "metadata": {},
   "outputs": [
    {
     "data": {
      "image/png": "[encoded data removed]",
      "text/plain": [
       "<Figure size 1296x432 with 1 Axes>"
      ]
     },
     "metadata": {
      "needs_background": "light"
     },
     "output_type": "display_data"
    }
   ],
   "source": [
    "plt.figure(figsize=(18,6))\n",
    "plt.plot(x,y, color=\"black\")\n",
    "plt.ylabel(\"No. of wikipedia edits\")\n",
    "plt.title(\"Daily counts for %s\" % title)\n",
    "plt.minorticks_on()"
   ]
  },
  {
   "cell_type": "code",
   "execution_count": 19,
   "metadata": {},
   "outputs": [],
   "source": [
    "# Compare timeseries charts for manny pacquiao and floyd mayweather\n",
    "\n",
    "df_MP = df[df[\"title\"] == \"Manny Pacquiao\"]\n",
    "df_FM = df[df[\"title\"] == \"Floyd_Mayweather_Jr.\"]"
   ]
  },
  {
   "cell_type": "code",
   "execution_count": 32,
   "metadata": {},
   "outputs": [
    {
     "data": {
      "text/html": [
       "<div>\n",
       "<style scoped>\n",
       "    .dataframe tbody tr th:only-of-type {\n",
       "        vertical-align: middle;\n",
       "    }\n",
       "\n",
       "    .dataframe tbody tr th {\n",
       "        vertical-align: top;\n",
       "    }\n",
       "\n",
       "    .dataframe thead th {\n",
       "        text-align: right;\n",
       "    }\n",
       "</style>\n",
       "<table border=\"1\" class=\"dataframe\">\n",
       "  <thead>\n",
       "    <tr style=\"text-align: right;\">\n",
       "      <th></th>\n",
       "      <th>len</th>\n",
       "    </tr>\n",
       "    <tr>\n",
       "      <th>date</th>\n",
       "      <th></th>\n",
       "    </tr>\n",
       "  </thead>\n",
       "  <tbody>\n",
       "  </tbody>\n",
       "</table>\n",
       "</div>"
      ],
      "text/plain": [
       "Empty DataFrame\n",
       "Columns: [len]\n",
       "Index: []"
      ]
     },
     "execution_count": 32,
     "metadata": {},
     "output_type": "execute_result"
    }
   ],
   "source": [
    "df_daily_MP = df_MP.groupby(\"date\")[\"revid\"].agg([len])\n",
    "df_daily_MP"
   ]
  },
  {
   "cell_type": "code",
   "execution_count": 31,
   "metadata": {},
   "outputs": [
    {
     "data": {
      "text/html": [
       "<div>\n",
       "<style scoped>\n",
       "    .dataframe tbody tr th:only-of-type {\n",
       "        vertical-align: middle;\n",
       "    }\n",
       "\n",
       "    .dataframe tbody tr th {\n",
       "        vertical-align: top;\n",
       "    }\n",
       "\n",
       "    .dataframe thead th {\n",
       "        text-align: right;\n",
       "    }\n",
       "</style>\n",
       "<table border=\"1\" class=\"dataframe\">\n",
       "  <thead>\n",
       "    <tr style=\"text-align: right;\">\n",
       "      <th></th>\n",
       "      <th>len</th>\n",
       "    </tr>\n",
       "    <tr>\n",
       "      <th>date</th>\n",
       "      <th></th>\n",
       "    </tr>\n",
       "  </thead>\n",
       "  <tbody>\n",
       "    <tr>\n",
       "      <th>2005-01-12</th>\n",
       "      <td>2</td>\n",
       "    </tr>\n",
       "    <tr>\n",
       "      <th>2005-01-19</th>\n",
       "      <td>2</td>\n",
       "    </tr>\n",
       "    <tr>\n",
       "      <th>2005-03-24</th>\n",
       "      <td>3</td>\n",
       "    </tr>\n",
       "    <tr>\n",
       "      <th>2005-03-25</th>\n",
       "      <td>1</td>\n",
       "    </tr>\n",
       "    <tr>\n",
       "      <th>2005-04-14</th>\n",
       "      <td>1</td>\n",
       "    </tr>\n",
       "    <tr>\n",
       "      <th>...</th>\n",
       "      <td>...</td>\n",
       "    </tr>\n",
       "    <tr>\n",
       "      <th>2018-09-03</th>\n",
       "      <td>3</td>\n",
       "    </tr>\n",
       "    <tr>\n",
       "      <th>2018-09-06</th>\n",
       "      <td>2</td>\n",
       "    </tr>\n",
       "    <tr>\n",
       "      <th>2018-09-07</th>\n",
       "      <td>5</td>\n",
       "    </tr>\n",
       "    <tr>\n",
       "      <th>2018-09-08</th>\n",
       "      <td>1</td>\n",
       "    </tr>\n",
       "    <tr>\n",
       "      <th>2018-09-09</th>\n",
       "      <td>3</td>\n",
       "    </tr>\n",
       "  </tbody>\n",
       "</table>\n",
       "<p>1754 rows × 1 columns</p>\n",
       "</div>"
      ],
      "text/plain": [
       "            len\n",
       "date           \n",
       "2005-01-12    2\n",
       "2005-01-19    2\n",
       "2005-03-24    3\n",
       "2005-03-25    1\n",
       "2005-04-14    1\n",
       "...         ...\n",
       "2018-09-03    3\n",
       "2018-09-06    2\n",
       "2018-09-07    5\n",
       "2018-09-08    1\n",
       "2018-09-09    3\n",
       "\n",
       "[1754 rows x 1 columns]"
      ]
     },
     "execution_count": 31,
     "metadata": {},
     "output_type": "execute_result"
    }
   ],
   "source": [
    "df_daily_FM = df_FM.groupby(\"date\")[\"revid\"].agg([len])\n",
    "df_daily_FM"
   ]
  },
  {
   "cell_type": "code",
   "execution_count": 22,
   "metadata": {},
   "outputs": [],
   "source": [
    "x_MP = df_daily_MP.index\n",
    "x_FM = df_daily_FM.index\n"
   ]
  },
  {
   "cell_type": "code",
   "execution_count": 23,
   "metadata": {},
   "outputs": [
    {
     "data": {
      "text/plain": [
       "Index([2005-01-12, 2005-01-19, 2005-03-24, 2005-03-25, 2005-04-14, 2005-06-08,\n",
       "       2005-06-26, 2005-06-29, 2005-07-01, 2005-07-02,\n",
       "       ...\n",
       "       2018-07-17, 2018-07-24, 2018-07-28, 2018-08-11, 2018-08-30, 2018-09-03,\n",
       "       2018-09-06, 2018-09-07, 2018-09-08, 2018-09-09],\n",
       "      dtype='object', name='date', length=1754)"
      ]
     },
     "execution_count": 23,
     "metadata": {},
     "output_type": "execute_result"
    }
   ],
   "source": [
    "x_FM"
   ]
  },
  {
   "cell_type": "code",
   "execution_count": 24,
   "metadata": {},
   "outputs": [],
   "source": [
    "y_MP = df_daily_MP[\"len\"]\n",
    "y_FM = df_daily_FM[\"len\"]"
   ]
  },
  {
   "cell_type": "code",
   "execution_count": 25,
   "metadata": {},
   "outputs": [
    {
     "data": {
      "text/plain": [
       "Series([], Name: len, dtype: float64)"
      ]
     },
     "execution_count": 25,
     "metadata": {},
     "output_type": "execute_result"
    }
   ],
   "source": [
    "y_MP"
   ]
  },
  {
   "cell_type": "code",
   "execution_count": 26,
   "metadata": {},
   "outputs": [
    {
     "data": {
      "image/png": "[encoded data removed]",
      "text/plain": [
       "<Figure size 1296x432 with 1 Axes>"
      ]
     },
     "metadata": {
      "needs_background": "light"
     },
     "output_type": "display_data"
    }
   ],
   "source": [
    "# charts\n",
    "plt.figure(figsize=(18,6))\n",
    "plt.plot(x_MP, y_MP, color='black')\n",
    "plt.plot(x_FM, y_FM, color='red')\n",
    "plt.ylabel(\"No. of wikipedia edits\")\n",
    "plt.title(\"Daily counts for Manny(b) and Floyd(r)\")\n",
    "plt.minorticks_on()"
   ]
  },
  {
   "cell_type": "code",
   "execution_count": 27,
   "metadata": {},
   "outputs": [],
   "source": [
    "date_start = pd.to_datetime(\"2015/01/01\")\n",
    "date_end = pd.to_datetime(\"2015/12/31\")"
   ]
  },
  {
   "cell_type": "code",
   "execution_count": 28,
   "metadata": {},
   "outputs": [
    {
     "data": {
      "text/plain": [
       "(735599.0, 735963.0)"
      ]
     },
     "execution_count": 28,
     "metadata": {},
     "output_type": "execute_result"
    },
    {
     "data": {
      "image/png": "[encoded data removed]",
      "text/plain": [
       "<Figure size 1296x432 with 1 Axes>"
      ]
     },
     "metadata": {
      "needs_background": "light"
     },
     "output_type": "display_data"
    }
   ],
   "source": [
    "plt.figure(figsize=(18,6))\n",
    "plt.plot(x_MP, y_MP, 'k-')\n",
    "plt.plot(x_FM, y_FM, 'r-')\n",
    "plt.ylabel(\"No. of wikipedia edits\")\n",
    "plt.title(\"Daily counts for Manny(b) and Floyd(r)\")\n",
    "plt.minorticks_on()\n",
    "plt.xlim((date_start,date_end))"
   ]
  },
  {
   "cell_type": "code",
   "execution_count": 34,
   "metadata": {},
   "outputs": [
    {
     "data": {
      "text/plain": [
       "<matplotlib.legend.Legend at 0x21e6a38f0c8>"
      ]
     },
     "execution_count": 34,
     "metadata": {},
     "output_type": "execute_result"
    },
    {
     "data": {
      "image/png": "[encoded data removed]",
      "text/plain": [
       "<Figure size 1296x432 with 1 Axes>"
      ]
     },
     "metadata": {
      "needs_background": "light"
     },
     "output_type": "display_data"
    }
   ],
   "source": [
    "# Add Legend\n",
    "plt.figure(figsize=(18,6))\n",
    "plt.plot(x_MP, y_MP, 'k-', label=\"Manny Pacquiao\")\n",
    "plt.plot(x_FM, y_FM, 'r-', label=\"Floyd Mayweather Jr.\")\n",
    "plt.ylabel(\"No. of wikipedia edits\")\n",
    "plt.title(\"Daily counts for Manny(b) and Floyd(r)\")\n",
    "plt.minorticks_on()\n",
    "plt.xlim((date_start,date_end))\n",
    "plt.ylim((0,55))\n",
    "plt.legend(fontsize=14)"
   ]
  },
  {
   "cell_type": "code",
   "execution_count": 37,
   "metadata": {},
   "outputs": [],
   "source": [
    "# Annotate Date of \"Fight of the Century\"\n",
    "\n",
    "# Define reference date\n",
    "\n",
    "date_ref = pd.to_datetime(\"2015/05/02\")"
   ]
  },
  {
   "cell_type": "code",
   "execution_count": 39,
   "metadata": {},
   "outputs": [],
   "source": [
    "#Define annotation label\n",
    "label_ref = \"The Fight of the Century\""
   ]
  },
  {
   "cell_type": "code",
   "execution_count": 41,
   "metadata": {},
   "outputs": [],
   "source": [
    "# Define x-axis position - convert date to numerical equivalent in matplotlib\n",
    "date_num_ref = matplotlib.dates.date2num(date_ref)"
   ]
  },
  {
   "cell_type": "code",
   "execution_count": 43,
   "metadata": {},
   "outputs": [
    {
     "data": {
      "image/png": "[encoded data removed]",
      "text/plain": [
       "<Figure size 1296x432 with 1 Axes>"
      ]
     },
     "metadata": {
      "needs_background": "light"
     },
     "output_type": "display_data"
    }
   ],
   "source": [
    "# Add vertical line to show reference date and add label next to it\n",
    "\n",
    "# Add Legend\n",
    "plt.figure(figsize=(18,6))\n",
    "plt.plot(x_MP, y_MP, 'k-', label=\"Manny Pacquiao\")\n",
    "plt.plot(x_FM, y_FM, 'r-', label=\"Floyd Mayweather Jr.\")\n",
    "plt.ylabel(\"No. of wikipedia edits\")\n",
    "plt.title(\"Daily counts for Manny(b) and Floyd(r)\")\n",
    "plt.minorticks_on()\n",
    "plt.xlim((date_start,date_end))\n",
    "plt.ylim((0,55))\n",
    "plt.legend()\n",
    "plt.axvline(date_ref, color=\"gray\", ls=\"--\") # add vertical line\n",
    "plt.text(date_num_ref, 53, label_ref, rotation=90, horizontalalignment=\"right\") # add text label\n",
    "plt.savefig(\"../fig/fig_timeseries_Pacquiao_Mayweather.png\", dpi=200, box_inches=\"tight\")"
   ]
  }
 ],
 "metadata": {
  "kernelspec": {
   "display_name": "Python 3",
   "language": "python",
   "name": "python3"
  },
  "language_info": {
   "codemirror_mode": {
    "name": "ipython",
    "version": 3
   },
   "file_extension": ".py",
   "mimetype": "text/x-python",
   "name": "python",
   "nbconvert_exporter": "python",
   "pygments_lexer": "ipython3",
   "version": "3.7.7"
  }
 },
 "nbformat": 4,
 "nbformat_minor": 2
}
